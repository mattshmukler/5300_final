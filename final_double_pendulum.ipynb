{
 "cells": [
  {
   "cell_type": "markdown",
   "metadata": {},
   "source": [
    "# Double pendulum using Lagrange's equation\n",
    "\n",
    "Defines a DoublePendulum class that is used to generate basic pendulum plots from solving Lagrange's equations for a double pendulum.\n",
    "\n",
    "* Last revised 25-Apr-2022 by Matt Shmukler (shmukler.2@osu.edu)."
   ]
  },
  {
   "cell_type": "markdown",
   "metadata": {},
   "source": [
    "We take the origin of our system to be the top point where the pendulum is attached. $\\hat x$ points to the right and $\\hat y$ points down. Here is a picture of the setup and variables (borrowed from Taylor's Classical Mechanics)."
   ]
  },
  {
   "cell_type": "code",
   "execution_count": null,
   "metadata": {},
   "outputs": [],
   "source": [
    "%matplotlib inline"
   ]
  },
  {
   "cell_type": "code",
   "execution_count": null,
   "metadata": {},
   "outputs": [],
   "source": [
    "import numpy as np\n",
    "from scipy.integrate import solve_ivp\n",
    "from IPython.display import Image\n",
    "import matplotlib.pyplot as plt\n",
    "Image(filename='DoublePendulumScreencap.png')"
   ]
  },
  {
   "cell_type": "markdown",
   "metadata": {},
   "source": [
    "## Euler-Lagrange equations\n",
    "\n",
    "For the double pendulum with generalized coordinates $\\phi_1$ and $\\phi_2$, we can write the position of the bobs as\n",
    "\n",
    "$\n",
    "x_1=L_1 \\sin(\\phi_1) \\hspace{2cm} \\dot x_1=L_1\\dot\\phi_1\\cos(\\phi_1) \\\\x_2=x_1+L_2 \\sin(\\phi_2) \\hspace{1.05cm} \\dot x_2=L_1\\dot\\phi_1\\cos(\\phi_1)+L_2\\dot\\phi_2\\cos(\\phi_2)\\\\y_1=L_1\\cos(\\phi_1) \\hspace{2cm} \\dot y_1=-L_1\\dot\\phi_1\\sin(\\phi_1) \\\\y_2=y_1+L_2\\cos(\\phi_2) \\hspace{1.05cm} \\dot y_2=-L_1\\dot\\phi_1\\sin(\\phi_1)-L_2\\dot\\phi_2\\sin(\\phi_2)\n",
    "$\n",
    "\n",
    "The kinetic and potenial energies are then\n",
    "\n",
    "$\n",
    "T=\\frac{1}{2}m_1v_1^2+\\frac{1}{2}m_2v_2^2=\\frac{1}{2}m_1(\\dot x_1^2+\\dot y_1^2)+\\frac{1}{2}m_2(\\dot x_2^2+\\dot y_2^2)=\\frac{1}{2}(m_1+m_2)L_1^2\\dot\\phi_1^2+m_2L_1L_2\\dot\\phi_1\\dot\\phi_2\\cos(\\phi_1-\\phi_2)+\\frac{1}{2}m_2L_2^2\\dot\\phi_2^2\n",
    "$\n",
    "$\n",
    "U=-m_1gy_1-m_2gy_2=-(m_1+m_2)L_1g\\cos(\\phi_1)-m_2L_2g\\cos(\\phi_2)\\\\\n",
    "$\n",
    "Which gives us a lagrangian of \n",
    "$\\\\\n",
    "\\mathcal{L}=\\frac{1}{2}(m_1+m_2)L_1^2\\phi_1^2+\\frac{1}{2}m_2L_2^2\\dot\\phi_2^2+m_2L_1L_2\\dot\\phi_1\\dot\\phi_2\\cos(\\phi_1-\\phi_2)+(m_1+m_2)L_1g\\cos(\\phi_1)+m_2L_2g\\cos(\\phi_2)\\\\\n",
    "$\n",
    "Solving the Euler-Lagrange Equations:\n",
    "$\n",
    " \\frac{d}{dt}\\frac{\\partial\\mathcal{L}}{\\partial \\dot\\phi_i} = \\frac{\\partial\\mathcal L}{\\partial\\phi_i}\n",
    " \\quad\\Longrightarrow\\quad\n",
    "$\n",
    "$\\\\\n",
    "\\ddot\\phi_1=\\frac{m_2g\\sin(\\phi_2)\\cos(\\phi_1-\\phi_2)-m_2\\sin(\\phi_1-\\phi_2)(L_1\\dot\\phi_1^2\\cos(\\phi_1-\\phi_2)+L_2\\dot\\phi_2^2)-(m_1+m_2)g\\sin(\\phi_1)}{L_1(m_1+m_2\\sin^2(\\phi_1-\\phi_2)))}\\\\\n",
    "$\n",
    "and\n",
    "$\\\\\n",
    "\\ddot\\phi_2=\\frac{(m_1+m_2)(L_1\\dot\\phi_1^2\\sin(\\phi_1-\\phi_2)-g\\sin(\\phi_2)+g\\sin(\\phi_1)\\cos(\\phi_1-\\phi_2))+m_2L_2\\dot\\phi_2^2\\sin(\\phi_1-\\phi_2)\\cos(\\phi_1-\\phi_2)}{L_2(m_1+m_2\\sin^2(\\phi_1-\\phi_2)))}\n",
    "\\\\\n",
    "$\n",
    "We shall now solve these equations numerically"
   ]
  },
  {
   "cell_type": "code",
   "execution_count": null,
   "metadata": {},
   "outputs": [],
   "source": [
    "# The dpi (dots-per-inch) setting will affect the resolution and how large\n",
    "#  the plots appear on screen and printed.  So you may want/need to adjust \n",
    "#  the figsize when creating the figure.\n",
    "plt.rcParams['figure.dpi'] = 100.    # this is the default for notebook\n",
    "\n",
    "# Change the common font size (smaller when higher dpi)\n",
    "font_size = 12\n",
    "plt.rcParams.update({'font.size': font_size})"
   ]
  },
  {
   "cell_type": "markdown",
   "metadata": {},
   "source": [
    "## Double Pendulum class and utility functions"
   ]
  },
  {
   "cell_type": "code",
   "execution_count": null,
   "metadata": {},
   "outputs": [],
   "source": [
    "class DoublePendulum():\n",
    "    \"\"\"\n",
    "    DoublePendulum class implements the parameters and Lagranges's equations for \n",
    "     a double pendulum (no driving or damping).\n",
    "     \n",
    "    Parameters\n",
    "    ----------\n",
    "    Ln : float\n",
    "        length of the n'th pendulum\n",
    "    g : float\n",
    "        gravitational acceleration at the earth's surface\n",
    "    mn : float\n",
    "        mass of the n'th pendulum\n",
    "\n",
    "    Methods\n",
    "    -------\n",
    "    dy_dt(t, y)\n",
    "        Returns the right side of the differential equation in vector y, \n",
    "        given time t and the corresponding value of y.\n",
    "    \"\"\"\n",
    "    def __init__(self, L1=1., L2=1., m1=1., m2=1., g=1.):\n",
    "        #Initialize members of class\n",
    "        self.L1 = L1\n",
    "        self.L2 = L2\n",
    "        self.g = g\n",
    "        self.m1 = m1\n",
    "        self.m2 = m2\n",
    "    \n",
    "    def dy_dt(self, t, y):\n",
    "        \"\"\"\n",
    "        This function returns the right-hand side of the diffeq: \n",
    "        [dphi1/dt dphi_dot1/dt dphi2/dt dphi_dot2/dt]\n",
    "        \n",
    "        Parameters\n",
    "        ----------\n",
    "        t : float\n",
    "            time \n",
    "        y : float\n",
    "            A 2-component vector with y[0] = phi1(t) and y[1] = phi_dot1(t)\n",
    "            and y[2] = phi2(t) and y[3] = phi_dot2(t)\n",
    "            \n",
    "        Returns\n",
    "        -------\n",
    "        \n",
    "        \"\"\"\n",
    "        cosp , sinp = np.cos(y[0]-y[2]), np.sin(y[0]-y[2])\n",
    "        d = (self.m1+self.m2 * sinp**2)\n",
    "        \n",
    "        phi1_doubledot= (self.m2*self.g*np.sin(y[2])*cosp-self.m2*sinp*(self.L1 * y[1]**2 * cosp +self.L2 * y[3]**2) \\\n",
    "                         - (self.m1+self.m2)*self.g*np.sin(y[0]))/(self.L1*d)\n",
    "        \n",
    "        phi2_doubledot= ((self.m1+self.m2)*(self.L1 * y[1]**2 * sinp - self.g*np.sin(y[2])+self.g*np.sin(y[0])*cosp) \\\n",
    "                          +self.m2*self.L2* y[3]**2 * sinp*cosp)/(self.L2*d)\n",
    "        \n",
    "        \n",
    "        return y[1], phi1_doubledot  , y[3], phi2_doubledot \n",
    "    \n",
    "    def solve_ode(self, t_pts, phi1_0, phi1_dot_0, phi2_0, phi2_dot_0,\n",
    "                  abserr=1.0e-10, relerr=1.0e-10):\n",
    "        \"\"\"\n",
    "        Solve the ODE given initial conditions.\n",
    "        Specify smaller abserr and relerr to get more precision.\n",
    "        \"\"\"\n",
    "        y = [phi1_0, phi1_dot_0, phi2_0, phi2_dot_0] \n",
    "        solution = solve_ivp(self.dy_dt, (t_pts[0], t_pts[-1]), \n",
    "                             y, t_eval=t_pts, \n",
    "                             atol=abserr, rtol=relerr)\n",
    "        phi1, phi1_dot, phi2, phi2_dot = solution.y\n",
    "\n",
    "        return phi1, phi1_dot, phi2, phi2_dot"
   ]
  },
  {
   "cell_type": "code",
   "execution_count": null,
   "metadata": {},
   "outputs": [],
   "source": [
    "def plot_y_vs_x(x, y, axis_labels=None, label=None, title=None, \n",
    "                color=None, linestyle=None, semilogy=False, loglog=False,\n",
    "                ax=None):\n",
    "    \"\"\"\n",
    "    Generic plotting function: return a figure axis with a plot of y vs. x,\n",
    "    with line color and style, title, axis labels, and line label\n",
    "    \"\"\"\n",
    "    if ax is None:        # if the axis object doesn't exist, make one\n",
    "        ax = plt.gca()\n",
    "\n",
    "    if (semilogy):\n",
    "        line, = ax.semilogy(x, y, label=label, \n",
    "                            color=color, linestyle=linestyle)\n",
    "    elif (loglog):\n",
    "        line, = ax.loglog(x, y, label=label, \n",
    "                          color=color, linestyle=linestyle)\n",
    "    else:\n",
    "        line, = ax.plot(x, y, label=label, \n",
    "                    color=color, linestyle=linestyle)\n",
    "\n",
    "    if label is not None:    # if a label if passed, show the legend\n",
    "        ax.legend()\n",
    "    if title is not None:    # set a title if one if passed\n",
    "        ax.set_title(title)\n",
    "    if axis_labels is not None:  # set x-axis and y-axis labels if passed  \n",
    "        ax.set_xlabel(axis_labels[0])\n",
    "        ax.set_ylabel(axis_labels[1])\n",
    "\n",
    "    return ax, line"
   ]
  },
  {
   "cell_type": "code",
   "execution_count": null,
   "metadata": {},
   "outputs": [],
   "source": [
    "def start_stop_indices(t_pts, plot_start, plot_stop):\n",
    "    start_index = (np.fabs(t_pts-plot_start)).argmin()  # index in t_pts array \n",
    "    stop_index = (np.fabs(t_pts-plot_stop)).argmin()  # index in t_pts array \n",
    "    return start_index, stop_index"
   ]
  },
  {
   "cell_type": "markdown",
   "metadata": {},
   "source": [
    "## Make pendulum plots of the two angles"
   ]
  },
  {
   "cell_type": "code",
   "execution_count": null,
   "metadata": {
    "scrolled": false
   },
   "outputs": [],
   "source": [
    "# Labels for individual plot axes\n",
    "phi_vs_time_labels = (r'$t$', r'$\\phi(t)$')\n",
    "\n",
    "# Common plotting time (generate the full time then use slices)\n",
    "t_start = 0.\n",
    "t_end = 50.\n",
    "delta_t = 0.001\n",
    "\n",
    "t_pts = np.arange(t_start, t_end+delta_t, delta_t)  \n",
    "\n",
    "L1 = 1.\n",
    "L2 = 1.\n",
    "g = 1.\n",
    "m1 = 1.\n",
    "m2 = 1.\n",
    "\n",
    "# Instantiate a pendulum \n",
    "p1 = DoublePendulum(L1=L1, L2=L2, m1=m1, m2=m2 ,g=g)\n"
   ]
  },
  {
   "cell_type": "code",
   "execution_count": null,
   "metadata": {},
   "outputs": [],
   "source": [
    "# initial conditions\n",
    "phi1_0 = np.pi/2.\n",
    "phi1_dot_0 = 0.\n",
    "phi2_0 = np.pi\n",
    "phi2_dot_0 = 0.\n",
    "phi1, phi1_dot, phi2, phi2_dot = p1.solve_ode(t_pts, phi1_0, phi1_dot_0, phi2_0, phi2_dot_0)\n",
    "\n",
    "\n",
    "# start the plot!\n",
    "fig = plt.figure(figsize=(10,5))\n",
    "overall_title = 'Double pendulum from Lagrangian:  ' + \\\n",
    "                rf' $\\phi_1(0) = {phi1_0:.2f},$' + \\\n",
    "                rf'  $\\dot\\phi_1(0) = {phi1_dot_0:.2f},$' + \\\n",
    "                rf' $\\phi_2(0) = {phi2_0:.2f}$' + \\\n",
    "                rf' $\\dot\\phi_2(0) = {phi2_dot_0:.2f}$' + \\\n",
    "                '\\n'     # \\n means a new line (adds some space here)\n",
    "fig.suptitle(overall_title, va='baseline')\n",
    "    \n",
    "# first plot: phi_1(t) and phi_2(t) plot\n",
    "ax_a = fig.add_subplot(1,1,1)                  \n",
    "\n",
    "start, stop = start_stop_indices(t_pts, t_start, t_end)    \n",
    "plot_y_vs_x(t_pts[start : stop], phi1[start : stop], \n",
    "            axis_labels=phi_vs_time_labels, \n",
    "            color='blue',\n",
    "            label=r'$\\phi_1(t)$', \n",
    "            title=None, \n",
    "            ax=ax_a) \n",
    "plot_y_vs_x(t_pts[start : stop], phi2[start : stop], \n",
    "            axis_labels=phi_vs_time_labels, \n",
    "            color='red',\n",
    "            label=r'$\\phi_2(t)$', \n",
    "            title=None, \n",
    "            ax=ax_a)  \n",
    "                                \n",
    "fig.tight_layout()\n",
    "fig.savefig('Double_pendulum_Lagrange.png', bbox_inches='tight')  "
   ]
  },
  {
   "cell_type": "markdown",
   "metadata": {},
   "source": [
    "## Chaos of the double pendulum"
   ]
  },
  {
   "cell_type": "code",
   "execution_count": null,
   "metadata": {},
   "outputs": [],
   "source": [
    "# initial conditions\n",
    "phi1_0 = np.pi/2.\n",
    "phi1_dot_0 = 0.\n",
    "phi2_0 = np.pi\n",
    "phi2_dot_0 = 0.\n",
    "phi1, phi1_dot, phi2, phi2_dot = p1.solve_ode(t_pts, phi1_0, phi1_dot_0, phi2_0, phi2_dot_0)\n",
    "#Start second pendulum with slightly different initial conditions\n",
    "phi1s, phi1_dots, phi2s, phi2_dots = p1.solve_ode(t_pts, phi1_0, phi1_dot_0, phi2_0-0.001, phi2_dot_0)\n",
    "\n",
    "# start the plot!\n",
    "fig2 = plt.figure(figsize=(10,5))\n",
    "overall_title = 'Double pendulum from Lagrangian:  ' + \\\n",
    "                rf' $\\phi_1(0) = {phi1_0:.2f},$' + \\\n",
    "                rf'  $\\dot\\phi_1(0) = {phi1_dot_0:.2f},$' + \\\n",
    "                rf' $\\phi_2(0) = {phi2_0:.2f}$' + \\\n",
    "                rf' $\\dot\\phi_2(0) = {phi2_dot_0:.2f}$' + \\\n",
    "                '\\n'     # \\n means a new line (adds some space here)\n",
    "fig2.suptitle(overall_title, va='baseline')\n",
    "\n",
    "ax_a = fig2.add_subplot(1,1,1)                  \n",
    "\n",
    "start, stop = start_stop_indices(t_pts, t_start, t_end)    \n",
    "plot_y_vs_x(t_pts[start : stop], np.abs(phi1[start : stop]-phi1s[start : stop]), \n",
    "            axis_labels=phi_vs_time_labels, \n",
    "            color='blue', semilogy=True,\n",
    "            label=r'$\\Delta\\phi_1(t)$', \n",
    "            title=None, \n",
    "            ax=ax_a) \n",
    "plot_y_vs_x(t_pts[start : stop], np.abs(phi2[start : stop]-phi2s[start : stop]), \n",
    "            axis_labels=phi_vs_time_labels, \n",
    "            color='red', semilogy=True,\n",
    "            label=r'$\\Delta\\phi_2(t)$', \n",
    "            title=None, \n",
    "            ax=ax_a)  \n",
    "                                \n",
    "fig2.tight_layout()\n",
    "fig2.savefig('Double_pendulum_Chaos.png', bbox_inches='tight')  "
   ]
  },
  {
   "cell_type": "markdown",
   "metadata": {},
   "source": [
    "For the plot above, we solve for the motion of the pendulum with two slightly different initial conditions  ($\\phi_2(0)$ varies by 0.001) and then plot the absolute value of the difference between the two different $\\phi_1$'s and $\\phi_2$'s. We can see that for both $\\phi_1$ and $\\phi_2$, the difference between the two motions grows in time until the motion is completely different. This growth is indicative of a positive lyapunov exponent and means that slight differences in initial conditions lead to significant differences in the motions of our pendulums over time. This sensitivity to initial conditions shows that the system is chaotic."
   ]
  }
 ],
 "metadata": {
  "kernelspec": {
   "display_name": "Python 3 (ipykernel)",
   "language": "python",
   "name": "python3"
  },
  "language_info": {
   "codemirror_mode": {
    "name": "ipython",
    "version": 3
   },
   "file_extension": ".py",
   "mimetype": "text/x-python",
   "name": "python",
   "nbconvert_exporter": "python",
   "pygments_lexer": "ipython3",
   "version": "3.9.9"
  }
 },
 "nbformat": 4,
 "nbformat_minor": 2
}
